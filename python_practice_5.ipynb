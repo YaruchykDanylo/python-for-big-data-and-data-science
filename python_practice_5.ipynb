{
  "nbformat": 4,
  "nbformat_minor": 0,
  "metadata": {
    "colab": {
      "provenance": []
    },
    "kernelspec": {
      "name": "python3",
      "display_name": "Python 3"
    },
    "language_info": {
      "name": "python"
    }
  },
  "cells": [
    {
      "cell_type": "markdown",
      "source": [
        "# I. OOP"
      ],
      "metadata": {
        "id": "5qV_sehzFCTp"
      }
    },
    {
      "cell_type": "markdown",
      "source": [
        "1. (6б). Створіть клас Animal, додайте три атрибути, один з яких має значення за замовчуванням та два методи на свій розсуд."
      ],
      "metadata": {
        "id": "tx_U_hOALyfg"
      }
    },
    {
      "cell_type": "code",
      "source": [
        "class Animal:\n",
        "    def __init__(self, name, species, age=0):\n",
        "        self.name = name\n",
        "        self.species = species\n",
        "        self.age = age\n",
        "\n",
        "    def eat(self, food):\n",
        "        print(f\"{self.species} {self.name} їсть {food}\")\n",
        "\n",
        "    def move(self):\n",
        "        print(f\"{self.name} рухається\")\n"
      ],
      "metadata": {
        "id": "-Vf895KaL88N",
        "colab": {
          "base_uri": "https://localhost:8080/"
        },
        "outputId": "f6e282e1-280d-42e0-ad5a-287e4650c1c0"
      },
      "execution_count": 12,
      "outputs": [
        {
          "output_type": "stream",
          "name": "stdout",
          "text": [
            "пес Патрон їсть рибу\n",
            "Патрон рухається\n"
          ]
        }
      ]
    },
    {
      "cell_type": "markdown",
      "source": [
        "2. (2б). Створіть два обʼєкти цього класу, де один з обʼєктів створюється із дефолтним значенням атрибуту. На одному обʼєкті отримайте значення його атрибуту, а на іншому викличте один з його методів."
      ],
      "metadata": {
        "id": "X_UlOMB0L93w"
      }
    },
    {
      "cell_type": "code",
      "source": [
        "cat=Animal(\"Люся\",\"кішка\")\n",
        "cat.move()\n",
        "\n",
        "dog = Animal(\"Патрон\", \"пес\", 3)\n",
        "dog.eat(\"рибу\")\n",
        "\n"
      ],
      "metadata": {
        "id": "7gBu0ESOMCpG",
        "colab": {
          "base_uri": "https://localhost:8080/"
        },
        "outputId": "a289d553-ff1c-4f68-8f51-5596b813f316"
      },
      "execution_count": 16,
      "outputs": [
        {
          "output_type": "stream",
          "name": "stdout",
          "text": [
            "Люся рухається\n",
            "пес Патрон їсть рибу\n"
          ]
        }
      ]
    },
    {
      "cell_type": "markdown",
      "source": [
        "3. (5б). Створіть клас, де атрибути мають різні рівні доступу. Спробуйте отримати їхні значення та опишіть результати."
      ],
      "metadata": {
        "id": "HoqSCZt1MHn5"
      }
    },
    {
      "cell_type": "code",
      "source": [
        "class Person:\n",
        "    def __init__(self, name, age):\n",
        "        self.__name = name  # приватний атрибут\n",
        "        self._age = age  # захищений атрибут\n",
        "        self.public_age = age  # публічний атрибут\n",
        "\n",
        "# Створення об'єкта\n",
        "person = Person(\"Іван\", 30)\n",
        "\n",
        "# Отримання значень атрибутів\n",
        "print(f\"Публічний атрибут: {person.public_age}\")\n",
        "\n",
        "# Отримання значення захищеного атрибуту\n",
        "# Це можливо, але не рекомендується\n",
        "print(f\"Захищений атрибут: {person._age}\")\n",
        "\n",
        "# Отримання значення приватного атрибуту\n",
        "# Це неможливо\n",
        "try:\n",
        "    print(f\"Приватний атрибут: {person.__name}\")\n",
        "except AttributeError:\n",
        "    print(\"Неможливо отримати значення приватного атрибуту\")\n"
      ],
      "metadata": {
        "id": "r9b3vJxBMSPV",
        "colab": {
          "base_uri": "https://localhost:8080/"
        },
        "outputId": "9633aba8-36c9-4945-c596-9eac9a593cb7"
      },
      "execution_count": 17,
      "outputs": [
        {
          "output_type": "stream",
          "name": "stdout",
          "text": [
            "Публічний атрибут: 30\n",
            "Захищений атрибут: 30\n",
            "Неможливо отримати значення приватного атрибуту\n"
          ]
        }
      ]
    },
    {
      "cell_type": "markdown",
      "source": [
        "4. (7б). Як ви розумієте термін self? Для чого використовується метод __init __?"
      ],
      "metadata": {
        "id": "5op2m2vgMSkZ"
      }
    },
    {
      "cell_type": "markdown",
      "source": [
        "Self в Python - це ключове слово, яке використовується в методах класів для посилання на поточний екземпляр класу. Це дає можливість методу доступати до атрибутів і методів цього екземпляра. Простими словами: ми працюємо у класі, який зараз описуємо\n",
        "\n",
        "Метод init - це спеціальний метод, який викликається при створенні нового екземпляра класу. Він використовується для ініціалізації атрибутів екземпляра."
      ],
      "metadata": {
        "id": "DyiPqNRvMasx"
      }
    },
    {
      "cell_type": "markdown",
      "source": [
        "5. (9б). Створіть клас Фігура без атрибутів, з методом get_area для отримання площі фігури, що повертає 0 та __add __, який приймає self та other в якості аргументів, а повертає суму площин фігур self та other."
      ],
      "metadata": {
        "id": "-6X8EGfjMd2y"
      }
    },
    {
      "cell_type": "code",
      "source": [
        "import math\n",
        "\n",
        "class Figure:\n",
        "    def get_area(self):\n",
        "        return 0\n",
        "\n",
        "    def __add__(self, other):\n",
        "        return self.get_area() + other.get_area()\n"
      ],
      "metadata": {
        "id": "4rvO_wYUMaEr",
        "colab": {
          "base_uri": "https://localhost:8080/"
        },
        "outputId": "de20c779-76a8-4cf0-cb86-0ad1c038688a"
      },
      "execution_count": 19,
      "outputs": [
        {
          "output_type": "stream",
          "name": "stdout",
          "text": [
            "Загальна площа: 53.27433388230814\n"
          ]
        }
      ]
    },
    {
      "cell_type": "markdown",
      "source": [
        "6. (11б). Створіть 2 дочірніх класи від Фігури: Трикутник та Коло, які мають атрибути, необхідні для розрахунку площин. Визначте метод get_area в кожному з них так, щоби вони розраховували площу в залежності від формули для кожного типу фігури. Створіть обʼєкт класу Трикутник та обʼєкт класу Коло. Виконайте операцію суми за допомогою оператора + між ними."
      ],
      "metadata": {
        "id": "SFcKnnv5Mo_z"
      }
    },
    {
      "cell_type": "code",
      "source": [
        "\n",
        "class Square(Figure):\n",
        "    def __init__(self, side):\n",
        "        self.side = side\n",
        "\n",
        "    def get_area(self):\n",
        "        return self.side ** 2\n",
        "\n",
        "class Circle(Figure):\n",
        "    def __init__(self, radius):\n",
        "        self.radius = radius\n",
        "\n",
        "    def get_area(self):\n",
        "        return math.pi * self.radius ** 2\n",
        "\n",
        "square = Square(5)\n",
        "circle = Circle(3)\n",
        "\n",
        "total_area = square + circle\n",
        "\n",
        "print(f\"Загальна площа: {total_area}\")\n"
      ],
      "metadata": {
        "id": "H3GVNr69Muf3",
        "colab": {
          "base_uri": "https://localhost:8080/"
        },
        "outputId": "d51400f8-a61b-4e95-eb57-302e9eeb6d02"
      },
      "execution_count": 20,
      "outputs": [
        {
          "output_type": "stream",
          "name": "stdout",
          "text": [
            "Загальна площа: 53.27433388230814\n"
          ]
        }
      ]
    },
    {
      "cell_type": "markdown",
      "source": [
        "7. (3б). Продемонструйте різницю між isinstance та issubclass."
      ],
      "metadata": {
        "id": "HCvR206YMvLK"
      }
    },
    {
      "cell_type": "code",
      "source": [
        "class Animal:\n",
        "    pass\n",
        "\n",
        "class Dog(Animal):\n",
        "    pass\n",
        "\n",
        "class Cat(Animal):\n",
        "    pass\n",
        "\n",
        "dog = Dog()\n",
        "cat = Cat()\n",
        "\n",
        "print(isinstance(dog, Animal))  # True\n",
        "print(isinstance(cat, Animal))  # True тому що Dog і Cat є підкласами Animal.\n",
        "\n",
        "print(issubclass(Dog, Animal))  # True\n",
        "print(issubclass(Cat, Animal))  # True тому що dog і cat є підкласами Animal\n",
        "\n",
        "print(isinstance(Animal, Dog))  # False\n",
        "print(issubclass(Animal, Dog))  # False тому що Dog (як і Cat) не є підкласами Animal\n",
        "\n",
        "\n"
      ],
      "metadata": {
        "id": "L_V1bBvDM0GN",
        "colab": {
          "base_uri": "https://localhost:8080/"
        },
        "outputId": "a99f07ba-7e01-4827-9ba6-9977e8534bca"
      },
      "execution_count": 26,
      "outputs": [
        {
          "output_type": "stream",
          "name": "stdout",
          "text": [
            "True\n",
            "True\n",
            "True\n",
            "True\n",
            "False\n",
            "False\n"
          ]
        }
      ]
    },
    {
      "cell_type": "markdown",
      "source": [
        "8. (13б). Створіть клас BankAccount з приватними атрибутами balance та account_number. Реалізуйте методи поповнення та зняття коштів, забезпечивши належну інкапсуляцію. Підказка: використовуйте декоратори property та setter."
      ],
      "metadata": {
        "id": "jjsaBZ-iM0Qq"
      }
    },
    {
      "cell_type": "code",
      "source": [
        "class BankAccount:\n",
        "    def __init__(self, account_number, initial_balance=0):\n",
        "        self._balance = initial_balance\n",
        "        self._account_number = account_number\n",
        "\n",
        "    @property\n",
        "    def balance(self):\n",
        "        return self._balance\n",
        "\n",
        "    @balance.setter\n",
        "    def balance(self, amount):\n",
        "        if amount < 0:\n",
        "            print(\"Неможливо встановити від'ємний баланс.\")\n",
        "        else:\n",
        "            self._balance = amount\n",
        "\n",
        "    @property\n",
        "    def account_number(self):\n",
        "        return self._account_number\n",
        "\n",
        "    def deposit(self, amount):\n",
        "        if amount <= 0:\n",
        "            print(\"Неможливо внести від'ємну суму або нуль.\")\n",
        "        else:\n",
        "            self.balance += amount\n",
        "            print(f\"Внесено {amount} грн. Поточний баланс: {self.balance} грн.\")\n",
        "\n",
        "    def withdraw(self, amount):\n",
        "        if amount > self.balance:\n",
        "            print(\"Недостатньо коштів на рахунку.\")\n",
        "        elif amount < 0:\n",
        "          print(\"Неможливо зняти від'ємну суму або нуль.\")\n",
        "        else:\n",
        "            self.balance -= amount\n",
        "            print(f\"Знято {amount} грн. Поточний баланс: {self.balance} грн.\")\n",
        "\n",
        "account = BankAccount(\"UA1234567890\", 1000)\n",
        "account.deposit(500)\n",
        "account.withdraw(300)\n",
        "account.withdraw(2200)\n",
        "account.deposit(-500)\n",
        "account.withdraw(-2200)\n",
        "\n"
      ],
      "metadata": {
        "id": "xCvZ7lh8M7YA",
        "colab": {
          "base_uri": "https://localhost:8080/"
        },
        "outputId": "96a9db74-12ae-459d-ce3f-ca9828005ca2"
      },
      "execution_count": 43,
      "outputs": [
        {
          "output_type": "stream",
          "name": "stdout",
          "text": [
            "Внесено 500 грн. Поточний баланс: 1500 грн.\n",
            "Знято 300 грн. Поточний баланс: 1200 грн.\n",
            "Недостатньо коштів на рахунку.\n",
            "Неможливо внести від'ємну суму або нуль.\n",
            "Неможливо зняти від'ємну суму або нуль.\n"
          ]
        }
      ]
    },
    {
      "cell_type": "code",
      "source": [],
      "metadata": {
        "id": "rzivZWvwtrQb"
      },
      "execution_count": null,
      "outputs": []
    },
    {
      "cell_type": "markdown",
      "source": [
        "9. (11б). Створіть клас Library, який містить список об'єктів типу Book. Реалізуйте методи для додавання книги, видалення книги та відображення списку книг."
      ],
      "metadata": {
        "id": "tIzL2SJTM8ft"
      }
    },
    {
      "cell_type": "code",
      "source": [
        "class Book:\n",
        "    def __init__(self, title, author):\n",
        "        self.title = title\n",
        "        self.author = author\n",
        "\n",
        "class Library:\n",
        "    def __init__(self):\n",
        "        self.books = []\n",
        "\n",
        "    def add_book(self, book):\n",
        "        self.books.append(book)\n",
        "\n",
        "    def remove_book(self, title):\n",
        "        for book in self.books:\n",
        "            if book.title == title:\n",
        "                self.books.remove(book)\n",
        "                return True\n",
        "        return False\n",
        "\n",
        "    def list_books(self):\n",
        "        for book in self.books:\n",
        "            print(f\"- {book.title} by {book.author}\")\n",
        "\n",
        "# Приклад використання\n",
        "library = Library()\n",
        "\n",
        "book1 = Book(\"Книга Пес Патрон. Маленька історія про велику мрію\", \"Зоряна Живка\")\n",
        "book2 = Book(\"Пес Патрон і Шкарпетковий монстр\", \"Юліта Ран та Катя Підлусна\")\n",
        "\n",
        "library.add_book(book1)\n",
        "library.add_book(book2)\n",
        "\n",
        "library.list_books()\n",
        "\n",
        "library.remove_book(\"Книга Пес Патрон. Маленька історія про велику мрію\")\n",
        "library.add_book(Book(\"Книга Пес Патрон. Маленька історія про велику мрію\",\"Галина Ткачук\"))\n",
        "\n",
        "print(\"\\nПісля видалення:\")\n",
        "library.list_books()\n"
      ],
      "metadata": {
        "id": "HWxfJKLtNAUZ",
        "colab": {
          "base_uri": "https://localhost:8080/"
        },
        "outputId": "be3c88eb-34b1-45a0-84b2-dbde44712f83"
      },
      "execution_count": 53,
      "outputs": [
        {
          "output_type": "stream",
          "name": "stdout",
          "text": [
            "- Книга Пес Патрон. Маленька історія про велику мрію by Зоряна Живка\n",
            "- Пес Патрон і Шкарпетковий монстр by Юліта Ран та Катя Підлусна\n",
            "\n",
            "Після видалення:\n",
            "- Пес Патрон і Шкарпетковий монстр by Юліта Ран та Катя Підлусна\n",
            "- Книга Пес Патрон. Маленька історія про велику мрію by Галина Ткачук\n"
          ]
        }
      ]
    },
    {
      "cell_type": "markdown",
      "source": [
        "10. (13б). Створіть клас Person з атрибутами name та age. Створіть ще один клас Employee з такими атрибутами, як department та salary. Створіть клас Manager, який успадковує обидва класи Person та Employee. Продемонструйте використання множинної спадковості, створивши обʼєкт класу Manager та отримавши mro для цього класу."
      ],
      "metadata": {
        "id": "lmV8pAwwNIqu"
      }
    },
    {
      "cell_type": "code",
      "source": [
        "class Person:\n",
        "    def __init__(self, name, age):\n",
        "        self.name = name\n",
        "        self.age = age\n",
        "\n",
        "    def __str__(self):\n",
        "        return f\"Ім'я: {self.name}, Вік: {self.age}\"\n",
        "\n",
        "class Employee:\n",
        "    def __init__(self, department, salary):\n",
        "        self.department = department\n",
        "        self.salary = salary\n",
        "\n",
        "    def __str__(self):\n",
        "        return f\"Відділ: {self.department}, Зарплата: {self.salary}\"\n",
        "\n",
        "class Manager(Person, Employee):\n",
        "    def __init__(self, name, age, department, salary):\n",
        "        super().__init__(name, age)\n",
        "        Employee.__init__(self, department, salary)\n",
        "\n",
        "    def __str__(self):\n",
        "        # Pass `self` to the Employee.__str__() call\n",
        "        return f\"{super().__str__()}\\n{Employee.__str__(self)}\" #це знайшов в інтернеті\n",
        "\n",
        "manager = Manager(\"Петро Порошенко\", 55, \"IT\", 100000)\n",
        "\n",
        "print(manager)\n",
        "print(Manager.__mro__)\n",
        "\n",
        "\n"
      ],
      "metadata": {
        "id": "R49grKlWNPeN",
        "colab": {
          "base_uri": "https://localhost:8080/"
        },
        "outputId": "4ce2cf67-e783-40c4-ef02-58e3f258fc80"
      },
      "execution_count": 67,
      "outputs": [
        {
          "output_type": "stream",
          "name": "stdout",
          "text": [
            "Ім'я: Петро Порошенко, Вік: 55\n",
            "Відділ: IT, Зарплата: 100000\n",
            "(<class '__main__.Manager'>, <class '__main__.Person'>, <class '__main__.Employee'>, <class 'object'>)\n"
          ]
        }
      ]
    },
    {
      "cell_type": "markdown",
      "source": [
        "# II. Iterator"
      ],
      "metadata": {
        "id": "dIJyUiNBFG8G"
      }
    },
    {
      "cell_type": "markdown",
      "source": [
        "11. (4б). Визначте рядок(str) з 4ма різними за значенням символами. Створіть ітератор на основі цього рядка. Викличте 5 разів функцію next на ітераторі, 4ри перших з них огорніть у ф-цію print()."
      ],
      "metadata": {
        "id": "13vsm0NyKIzL"
      }
    },
    {
      "cell_type": "code",
      "source": [
        "string = \"abcd\"\n",
        "iterator = iter(string)\n",
        "\n",
        "for i in range(4):\n",
        "    print (next(iterator),f\"{i+1}-ий раз\")\n",
        "\n",
        "next(iterator)\n"
      ],
      "metadata": {
        "id": "81ntabAkKuz-",
        "colab": {
          "base_uri": "https://localhost:8080/",
          "height": 234
        },
        "outputId": "97a620e1-c5fd-4d88-f5f6-1cd59ea0b058"
      },
      "execution_count": 84,
      "outputs": [
        {
          "output_type": "stream",
          "name": "stdout",
          "text": [
            "a 1-ий раз\n",
            "b 2-ий раз\n",
            "c 3-ий раз\n",
            "d 4-ий раз\n"
          ]
        },
        {
          "output_type": "error",
          "ename": "StopIteration",
          "evalue": "",
          "traceback": [
            "\u001b[0;31m---------------------------------------------------------------------------\u001b[0m",
            "\u001b[0;31mStopIteration\u001b[0m                             Traceback (most recent call last)",
            "\u001b[0;32m<ipython-input-84-88fdba4bb514>\u001b[0m in \u001b[0;36m<cell line: 7>\u001b[0;34m()\u001b[0m\n\u001b[1;32m      5\u001b[0m     \u001b[0mprint\u001b[0m \u001b[0;34m(\u001b[0m\u001b[0mnext\u001b[0m\u001b[0;34m(\u001b[0m\u001b[0miterator\u001b[0m\u001b[0;34m)\u001b[0m\u001b[0;34m,\u001b[0m\u001b[0;34mf\"{i+1}-ий раз\"\u001b[0m\u001b[0;34m)\u001b[0m\u001b[0;34m\u001b[0m\u001b[0;34m\u001b[0m\u001b[0m\n\u001b[1;32m      6\u001b[0m \u001b[0;34m\u001b[0m\u001b[0m\n\u001b[0;32m----> 7\u001b[0;31m \u001b[0mnext\u001b[0m\u001b[0;34m(\u001b[0m\u001b[0miterator\u001b[0m\u001b[0;34m)\u001b[0m\u001b[0;34m\u001b[0m\u001b[0;34m\u001b[0m\u001b[0m\n\u001b[0m",
            "\u001b[0;31mStopIteration\u001b[0m: "
          ]
        }
      ]
    },
    {
      "cell_type": "markdown",
      "source": [
        "А що якщо викликати цю ж функцію на рядку?"
      ],
      "metadata": {
        "id": "aekWHGXOLRsO"
      }
    },
    {
      "cell_type": "code",
      "source": [
        "next(\"abcd\")"
      ],
      "metadata": {
        "id": "mxATGsErLV1i",
        "colab": {
          "base_uri": "https://localhost:8080/",
          "height": 135
        },
        "outputId": "3d362abd-0326-4ec9-ebe0-53972c1c6a33"
      },
      "execution_count": 85,
      "outputs": [
        {
          "output_type": "error",
          "ename": "TypeError",
          "evalue": "'str' object is not an iterator",
          "traceback": [
            "\u001b[0;31m---------------------------------------------------------------------------\u001b[0m",
            "\u001b[0;31mTypeError\u001b[0m                                 Traceback (most recent call last)",
            "\u001b[0;32m<ipython-input-85-24005738d392>\u001b[0m in \u001b[0;36m<cell line: 1>\u001b[0;34m()\u001b[0m\n\u001b[0;32m----> 1\u001b[0;31m \u001b[0mnext\u001b[0m\u001b[0;34m(\u001b[0m\u001b[0;34m\"abcd\"\u001b[0m\u001b[0;34m)\u001b[0m\u001b[0;34m\u001b[0m\u001b[0;34m\u001b[0m\u001b[0m\n\u001b[0m",
            "\u001b[0;31mTypeError\u001b[0m: 'str' object is not an iterator"
          ]
        }
      ]
    },
    {
      "cell_type": "markdown",
      "source": [
        " 12. (5б). Опишіть своїми словами в одному реченні, як ви розумієте різницю між ітерабельними обʼєктами та ітераторами (можна на прикладі)."
      ],
      "metadata": {
        "id": "XwtMEopwJ4pH"
      }
    },
    {
      "cell_type": "markdown",
      "source": [
        "Ітерабельні об'єкти - це контейнери, які зберігають послідовність даних,\n",
        "а ітератори - це об'єкти, що дозволяють послідовно обійти ці дані\n",
        "\n",
        "Наприклад: список є ітерабельним об'єктом, а цикл `for` використовує ітератор для обходу елементів списку один за одним."
      ],
      "metadata": {
        "id": "-sHrODc3KFn8"
      }
    },
    {
      "cell_type": "markdown",
      "source": [
        "13. (11б). Створіть клас, що має визначений Iterator Protocol та при кожному виклику next повертає літери англійської абетки, поки вони не вичерпаються."
      ],
      "metadata": {
        "id": "E9qJWmNbK8Gl"
      }
    },
    {
      "cell_type": "code",
      "source": [
        "class AlphabetIterator:\n",
        "    def __init__(self):\n",
        "        self.alphabet = 'abcdefghijklmnopqrstuvwxyz'\n",
        "        self.index = 0\n",
        "\n",
        "    def __iter__(self):\n",
        "        return self\n",
        "\n",
        "    def __next__(self):\n",
        "        if self.index >= len(self.alphabet):\n",
        "            raise StopIteration\n",
        "        else:\n",
        "            letter = self.alphabet[self.index]\n",
        "            self.index += 1\n",
        "            return letter\n",
        "\n",
        "# Використання\n",
        "alphabet_iter = AlphabetIterator()\n",
        "for letter in alphabet_iter:\n",
        "    print(letter)"
      ],
      "metadata": {
        "id": "cqx-g_RsLo6I",
        "colab": {
          "base_uri": "https://localhost:8080/"
        },
        "outputId": "91172b9a-5b9f-496a-f8ad-a60c7c29a4f4"
      },
      "execution_count": 88,
      "outputs": [
        {
          "output_type": "stream",
          "name": "stdout",
          "text": [
            "a\n",
            "b\n",
            "c\n",
            "d\n",
            "e\n",
            "f\n",
            "g\n",
            "h\n",
            "i\n",
            "j\n",
            "k\n",
            "l\n",
            "m\n",
            "n\n",
            "o\n",
            "p\n",
            "q\n",
            "r\n",
            "s\n",
            "t\n",
            "u\n",
            "v\n",
            "w\n",
            "x\n",
            "y\n",
            "z\n"
          ]
        }
      ]
    },
    {
      "cell_type": "markdown",
      "source": [
        "# Вітаю! Ви велика(ий) молодець, що впоралась(вся). Похваліть себе та побалуйте чимось приємним. Я Вами пишаюся."
      ],
      "metadata": {
        "id": "Z3E3S_s1Fv7-"
      }
    }
  ]
}