{
  "nbformat": 4,
  "nbformat_minor": 0,
  "metadata": {
    "colab": {
      "provenance": []
    },
    "kernelspec": {
      "name": "python3",
      "display_name": "Python 3"
    },
    "language_info": {
      "name": "python"
    }
  },
  "cells": [
    {
      "cell_type": "markdown",
      "source": [
        "# I. Оператори порівняння та логічні оператори. Умови."
      ],
      "metadata": {
        "id": "qDEi2Pi-4yUC"
      }
    },
    {
      "cell_type": "markdown",
      "source": [
        "1. Створіть цілочисленну змінну зі своїм щасливим або улюбленим числом. Напишіть код, який би автоматизовував наступну задачу.\n",
        "\n",
        "Якщо число парне, помножте його на 2 та виведіть результат на екран.\n",
        "\n",
        "Але якщо число непарне, помножте його на 3 та додайте 1 і виведіть на екран."
      ],
      "metadata": {
        "id": "3v8D4Dkm43Ua"
      }
    },
    {
      "cell_type": "code",
      "execution_count": 16,
      "metadata": {
        "id": "dlVjc-Nu4bmb",
        "colab": {
          "base_uri": "https://localhost:8080/"
        },
        "outputId": "2edead57-404c-460a-ad0a-d6bb1b12c95b"
      },
      "outputs": [
        {
          "output_type": "stream",
          "name": "stdout",
          "text": [
            "4\n",
            "10\n"
          ]
        }
      ],
      "source": [
        "fav_num1=2\n",
        "fav_num2=3\n",
        "\n",
        "def myfunc(num):\n",
        "  if num % 2==0:\n",
        "    num=num*2\n",
        "  else:\n",
        "    num=num*3+1\n",
        "  print(num)\n",
        "\n",
        "myfunc(fav_num1)\n",
        "myfunc(fav_num2) #вже опісля написання, подумав, що можливо треба було не функцією, а просто if, else, але принцип той самий роботи функції, тому не думаю, що це проблема, бо протилежного у зваданні також не прописано"
      ]
    },
    {
      "cell_type": "markdown",
      "source": [
        "2. Створіть змінну, що посилається на список. Якщо список пустий, додайте будь-який елемент у кінець списку. Якщо ж ні, то нічого не робіть."
      ],
      "metadata": {
        "id": "H669P0QK5BI_"
      }
    },
    {
      "cell_type": "code",
      "source": [
        "my_list1=[]\n",
        "my_list2=[2]\n",
        "\n",
        "def listfunc(lis):\n",
        "  if len(lis) == 0:\n",
        "    lis.append(1)\n",
        "  else:\n",
        "    None\n",
        "  print(lis)\n",
        "\n",
        "listfunc(my_list1)\n",
        "listfunc(my_list2)"
      ],
      "metadata": {
        "id": "ecWlfra45f6E",
        "colab": {
          "base_uri": "https://localhost:8080/"
        },
        "outputId": "758d2deb-51c3-4e3b-bd96-64f69fc6bfc9"
      },
      "execution_count": 18,
      "outputs": [
        {
          "output_type": "stream",
          "name": "stdout",
          "text": [
            "[1]\n",
            "[2]\n"
          ]
        }
      ]
    },
    {
      "cell_type": "markdown",
      "source": [
        "3. Створіть рядок зі своїм імʼям латинкою. Напишіть код, який би автоматизовував наступну задачу.\n",
        "\n",
        "Якщо в імені є літера \"а\"\n",
        " або \"i\", Виведіть на екран повідомлення \"A or I is in the name\".\n",
        "\n",
        "\n",
        "\n",
        "Якщо в імені є літери \"o\" та \"n\", Виведіть на екран повідомлення \"O and N is in the name\".\n",
        "\n",
        "Також якщо в імені немає літери \"о\", але є \"n\", Виведіть на екран повідомлення \"Only N is in the name\".\n",
        "\n",
        "В решті випадків виведіть на екран повідомлення \"There is no N in the name, but there might be O\".\n",
        "\n",
        "Зверніть увагу, що, наприклад, для імені \"Antonina\" буде виведено два повідомлення."
      ],
      "metadata": {
        "id": "h9Y3cMUd5h85"
      }
    },
    {
      "cell_type": "code",
      "source": [
        "name = \"DANYLO\"\n",
        "\n",
        "def ifmname(nam):\n",
        "  counter=0 #створив змінну каунтер у функції\n",
        "  name=nam.lower()\n",
        "\n",
        "  if \"a\" in name or \"i\" in name:\n",
        "    print(\"A or I is in the name\")\n",
        "    counter=counter+1\n",
        "  if \"o\" in name and \"n\" in name:\n",
        "    print(\"O and N is in the name\")\n",
        "    counter=counter+1\n",
        "  if \"n\" in name and \"o\" not in name:\n",
        "    print(\"Only N is in the name\")\n",
        "    counter=counter+1\n",
        "\n",
        "  if counter==0: #у кожному if маємо при виконанні +1, тому тільки за умови, що жоден if не спрацював - виведеться повідомелння\n",
        "    print(\"There is no N in the name, but there might be O\")\n",
        "\n",
        "ifmname(name)\n"
      ],
      "metadata": {
        "id": "bUH4LUx35u52",
        "colab": {
          "base_uri": "https://localhost:8080/"
        },
        "outputId": "788f8edd-fd83-4973-9dc8-8e60e33633c6"
      },
      "execution_count": 26,
      "outputs": [
        {
          "output_type": "stream",
          "name": "stdout",
          "text": [
            "A or I is in the name\n",
            "O and N is in the name\n"
          ]
        }
      ]
    },
    {
      "cell_type": "markdown",
      "source": [
        "# II. Comprehensions."
      ],
      "metadata": {
        "id": "wPCXJv4354cU"
      }
    },
    {
      "cell_type": "markdown",
      "source": [
        "4. Створіть список, використовуючи if (не if-else), range та comprehension."
      ],
      "metadata": {
        "id": "jULLW5jN55Pw"
      }
    },
    {
      "cell_type": "code",
      "source": [
        "lis = [num for num in range(1, 11) if num % 2 == 0]\n",
        "\n",
        "print(lis)\n"
      ],
      "metadata": {
        "id": "mlZalnVC6W3F",
        "colab": {
          "base_uri": "https://localhost:8080/"
        },
        "outputId": "1dd8e4e9-a056-4af0-a2ac-c877c83f3489"
      },
      "execution_count": 30,
      "outputs": [
        {
          "output_type": "stream",
          "name": "stdout",
          "text": [
            "[2, 4, 6, 8, 10]\n"
          ]
        }
      ]
    },
    {
      "cell_type": "markdown",
      "source": [
        "5. Створіть словник, використовуючи dict comprehension, що містить if else. Коли слід використовувати comprehensions, а коли їх слід уникати?"
      ],
      "metadata": {
        "id": "LqhEQ4JW6XcC"
      }
    },
    {
      "cell_type": "code",
      "source": [
        "lis = {num: \"парне\" if num % 2 == 0 else \"непарне\" for num in range(1, 11)}\n",
        "\n",
        "print(lis)\n"
      ],
      "metadata": {
        "id": "1yVaFbOs6hta",
        "colab": {
          "base_uri": "https://localhost:8080/"
        },
        "outputId": "ada33364-c359-469b-8f0c-a28e1c3c0e81"
      },
      "execution_count": 34,
      "outputs": [
        {
          "output_type": "stream",
          "name": "stdout",
          "text": [
            "{1: 'непарне', 2: 'парне', 3: 'непарне', 4: 'парне', 5: 'непарне', 6: 'парне', 7: 'непарне', 8: 'парне', 9: 'непарне', 10: 'парне'}\n"
          ]
        }
      ]
    },
    {
      "cell_type": "markdown",
      "source": [
        "**Сomprehensions** слід\n",
        "\n",
        "***Використовувати***:\n",
        "1.   Створення коротких та простих структур даних\n",
        "2.   Обробка даних з ітерації\n",
        "\n",
        "***Уникати***:\n",
        "\n",
        "\n",
        "1.   Складні логічні вирази\n",
        "2.   Повторне використання коду (можна в окрему функцію)\n",
        "3.   Читаність\n",
        "\n",
        "\n",
        "Останній пункт - найважливіша умова. Краще Сomprehensions взагалі не використовувати, бо читаність знижується - а це найважливіше у product code\n"
      ],
      "metadata": {
        "id": "wbkzNhKq6hzz"
      }
    },
    {
      "cell_type": "markdown",
      "source": [
        "6. Створіть список з рядками та запишіть його у змінну. Створіть ще один список на основі попереднього, де кожен рядок буде містити тільки три перших заглавних символи. Наприклад: ['hello', 'i', 'dont', 'care'] -> ['HEL', 'I', 'DON', 'CAR']. Використання comprehensions обовʼязкове."
      ],
      "metadata": {
        "id": "ZlqB8G3G6lHP"
      }
    },
    {
      "cell_type": "code",
      "source": [
        "\n",
        "original_list = [\"hello\", \"i\", \"dont\", \"care\"]\n",
        "\n",
        "trimmed_list = [item[:3].upper() for item in original_list] #оскільки в умові output наведено великими літерами, то добавив .upper()\n",
        "\n",
        "print(f\"Початоквий список: {original_list}\")\n",
        "print(f\"Обрізаний список: {trimmed_list}\")\n"
      ],
      "metadata": {
        "id": "nw6rz0bR60VC",
        "colab": {
          "base_uri": "https://localhost:8080/"
        },
        "outputId": "1a121ccb-3fe0-4c86-ca7b-152c538251ef"
      },
      "execution_count": 35,
      "outputs": [
        {
          "output_type": "stream",
          "name": "stdout",
          "text": [
            "Початоквий список: ['hello', 'i', 'dont', 'care']\n",
            "Обрізаний список: ['HEL', 'I', 'DON', 'CAR']\n"
          ]
        }
      ]
    },
    {
      "cell_type": "markdown",
      "source": [
        "# III. Цикли."
      ],
      "metadata": {
        "id": "Tj573IAH64Fz"
      }
    },
    {
      "cell_type": "markdown",
      "source": [
        "7. Продемонструйте роботу циклу while. Не можна використовувати True для запуску циклу, щоб уникнути безкінечного циклу!"
      ],
      "metadata": {
        "id": "tN_33xdE65H5"
      }
    },
    {
      "cell_type": "code",
      "source": [
        "sum_of_numbers = 0\n",
        "number = int(input(\"Введіть число (0 для завершення): \")) #функція input, яка позволяє вводити дані\n",
        "#не виловлюю помилку при введені символів, бо завдання для ідеї\n",
        "\n",
        "while number != 0:\n",
        "  sum_of_numbers += number #додаємо всі цифри, що ввів користувач\n",
        "\n",
        "  number = int(input(\"Введіть число (0 для завершення): \"))\n",
        "print(f\"Сума введених чисел: {sum_of_numbers}\")\n"
      ],
      "metadata": {
        "id": "Kd9FO6yG63P5",
        "colab": {
          "base_uri": "https://localhost:8080/",
          "height": 224
        },
        "outputId": "1c082625-3e04-49a4-bec7-51305a2368fa"
      },
      "execution_count": 39,
      "outputs": [
        {
          "name": "stdout",
          "output_type": "stream",
          "text": [
            "Введіть число (0 для завершення): а\n"
          ]
        },
        {
          "output_type": "error",
          "ename": "ValueError",
          "evalue": "invalid literal for int() with base 10: 'а'",
          "traceback": [
            "\u001b[0;31m---------------------------------------------------------------------------\u001b[0m",
            "\u001b[0;31mValueError\u001b[0m                                Traceback (most recent call last)",
            "\u001b[0;32m<ipython-input-39-eae6715819eb>\u001b[0m in \u001b[0;36m<cell line: 2>\u001b[0;34m()\u001b[0m\n\u001b[1;32m      1\u001b[0m \u001b[0msum_of_numbers\u001b[0m \u001b[0;34m=\u001b[0m \u001b[0;36m0\u001b[0m\u001b[0;34m\u001b[0m\u001b[0;34m\u001b[0m\u001b[0m\n\u001b[0;32m----> 2\u001b[0;31m \u001b[0mnumber\u001b[0m \u001b[0;34m=\u001b[0m \u001b[0mint\u001b[0m\u001b[0;34m(\u001b[0m\u001b[0minput\u001b[0m\u001b[0;34m(\u001b[0m\u001b[0;34m\"Введіть число (0 для завершення): \"\u001b[0m\u001b[0;34m)\u001b[0m\u001b[0;34m)\u001b[0m \u001b[0;31m#функція input, яка позволяє вводити дані\u001b[0m\u001b[0;34m\u001b[0m\u001b[0;34m\u001b[0m\u001b[0m\n\u001b[0m\u001b[1;32m      3\u001b[0m \u001b[0;31m#не виловлюю помилку при введені символів, бо завдання для ідеї\u001b[0m\u001b[0;34m\u001b[0m\u001b[0;34m\u001b[0m\u001b[0m\n\u001b[1;32m      4\u001b[0m \u001b[0;34m\u001b[0m\u001b[0m\n\u001b[1;32m      5\u001b[0m \u001b[0;32mwhile\u001b[0m \u001b[0mnumber\u001b[0m \u001b[0;34m!=\u001b[0m \u001b[0;36m0\u001b[0m\u001b[0;34m:\u001b[0m\u001b[0;34m\u001b[0m\u001b[0;34m\u001b[0m\u001b[0m\n",
            "\u001b[0;31mValueError\u001b[0m: invalid literal for int() with base 10: 'а'"
          ]
        }
      ]
    },
    {
      "cell_type": "markdown",
      "source": [
        "8. Напишіть програму, яка виведе на екран непарні числа в діапазоні від 0 до 20 включно."
      ],
      "metadata": {
        "id": "x2CmfZO-7pW0"
      }
    },
    {
      "cell_type": "code",
      "source": [
        "for number in range(1, 21, 2): #від 1 до 21 (бо range рахує від 1, але не до останнього включно) і через 2, тому будть непарні\n",
        "  print(number)\n"
      ],
      "metadata": {
        "id": "aCSRYA6s7tkF",
        "colab": {
          "base_uri": "https://localhost:8080/"
        },
        "outputId": "39d48298-fae4-4ec9-fff5-648b1fa82b45"
      },
      "execution_count": 40,
      "outputs": [
        {
          "output_type": "stream",
          "name": "stdout",
          "text": [
            "1\n",
            "3\n",
            "5\n",
            "7\n",
            "9\n",
            "11\n",
            "13\n",
            "15\n",
            "17\n",
            "19\n"
          ]
        }
      ]
    },
    {
      "cell_type": "markdown",
      "source": [
        "9. Створіть список з елементами булевого типу або None. Використовуючи цикли, отримайте в результаті список з кортежами, де перший елемент кортежу - індекс(ціле число), а другий елемент - відповідне значення з першого списку.\n",
        "\n",
        "Наприклад, [True, True, None, False] -> [(0, True), (1, True), (2, None), (3, False)]"
      ],
      "metadata": {
        "id": "MDWNocZD7t_B"
      }
    },
    {
      "cell_type": "code",
      "source": [
        "original_list = [True, False, True, None, None ]\n",
        "\n",
        "new_list = []\n",
        "\n",
        "for index, item in enumerate(original_list): #добавили функцію enumerate, щодо позволяє дати індекс кожному елементу списку\n",
        "\n",
        "  new_list.append((index, item)) #додаємо елементи\n",
        "\n",
        "print(f\"Оригінальний список: {original_list}\")\n",
        "print(f\"Новий список: {new_list}\")\n",
        "\n",
        "print(enumerate(original_list))\n"
      ],
      "metadata": {
        "id": "0EUyjMdp7yfh",
        "colab": {
          "base_uri": "https://localhost:8080/"
        },
        "outputId": "099c7b91-3862-4b4a-b03a-9dcf1e7c70cd"
      },
      "execution_count": 47,
      "outputs": [
        {
          "output_type": "stream",
          "name": "stdout",
          "text": [
            "Оригінальний список: [True, False, True, None, None]\n",
            "Новий список: [(0, True), (1, False), (2, True), (3, None), (4, None)]\n",
            "<enumerate object at 0x798839eca640>\n"
          ]
        }
      ]
    },
    {
      "cell_type": "markdown",
      "source": [
        "10. Створіть словник, де ключі - назви книжок, а значення - їхня кількість у наявності в Вашій міні-бібліотеці. Бібліотека має містити щонайменше 6 книжок (6 пар значень у словнику) і щонайбільше 10 (пар значень). Використовуючи цикли, оновіть словник (не створюйте новий) так, щоби кількість книг у наявності збільшилося на 5 кожної книги. Наприклад,\n",
        "{'It': 3, 'Fault stars': 10, 'Bible': 17, 'Psychological romance': 4, 'Harry Potter': 13} -> {'It': 8, 'Fault stars': 15, 'Bible': 22, 'Psychological romance': 9, 'Harry Potter': 18}"
      ],
      "metadata": {
        "id": "-6XUqlcG7zKs"
      }
    },
    {
      "cell_type": "code",
      "source": [
        "# Словник з назвами книг та їх кількістю, книги взяв з прикладу\n",
        "library_books = {\n",
        "    \"It\": 3,\n",
        "    \"Fault stars\": 10,\n",
        "    \"Bible\": 17,\n",
        "    \"Psychological romance\": 4,\n",
        "    \"Harry Potter\": 13,\n",
        "}\n",
        "\n",
        "# Оновлення кількості книг\n",
        "for book_name, quantity in library_books.items():\n",
        "  # Збільшення кількості на 5\n",
        "  library_books[book_name] += 5\n",
        "\n",
        "print(f\"Оновлений словник: {library_books}\")\n"
      ],
      "metadata": {
        "id": "Ceoj9wwb791q",
        "colab": {
          "base_uri": "https://localhost:8080/"
        },
        "outputId": "40c21643-3714-4546-dc28-cba6b3b68118"
      },
      "execution_count": 49,
      "outputs": [
        {
          "output_type": "stream",
          "name": "stdout",
          "text": [
            "Оновлений словник: {'It': 8, 'Fault stars': 15, 'Bible': 22, 'Psychological romance': 9, 'Harry Potter': 18}\n"
          ]
        }
      ]
    },
    {
      "cell_type": "markdown",
      "source": [
        "11. Визначте цілочислену змінну n, що належить проміжку від 4 до 10 включно. Використовуючи цикли, виведіть в консоль наступний патерн.\n",
        "\n",
        "#\n",
        "##\n",
        "###\n",
        "####\n",
        "\n",
        "... #*n\n"
      ],
      "metadata": {
        "id": "QLzyJM288AC7"
      }
    },
    {
      "cell_type": "code",
      "source": [
        "\n",
        "n = 7\n",
        "\n",
        "for i in range(n):\n",
        "  print(\"#\" * (i + 1))\n",
        "\n"
      ],
      "metadata": {
        "id": "KOpng87s8Duz",
        "colab": {
          "base_uri": "https://localhost:8080/"
        },
        "outputId": "d333a30a-1ef4-4f6e-cd80-a7c3e0eb212b"
      },
      "execution_count": 51,
      "outputs": [
        {
          "output_type": "stream",
          "name": "stdout",
          "text": [
            "#\n",
            "##\n",
            "###\n",
            "####\n",
            "#####\n",
            "######\n",
            "#######\n"
          ]
        }
      ]
    },
    {
      "cell_type": "markdown",
      "source": [
        "12. Гра \"Нумо вгадай\".\n",
        "Розробіть просту гру, де користувач має вгадати випадкове число від 1 до 100. Для генерації випадкового числа використовуйте функцію random.randint(a, b) (тут a та b включно). Для отримання числа з консолі використовуйте функцію input(), результат якої обовʼязково явно приведіть до типу int.\n",
        "\n",
        "Підказка: використовуйте цикл while та умови if-else, щоб повідомити користувачу піказки (напр. \"Більше\", \"Менше\") поки користувач не вгадає. По завершенню виведіть кількість спроб, які знадобилися для вгадування."
      ],
      "metadata": {
        "id": "_bd-bqAT8EHn"
      }
    },
    {
      "cell_type": "code",
      "source": [
        "import random\n",
        "andttempts = 0\n",
        "random_num=random.randint(1,100)\n",
        "# print(random_num) #прінт числа, що було початково загадане\n",
        "\n",
        "print(\"Я загадав чисало між 1 та 100. Вгадай його!\")\n",
        "number = int(input(\"Введіть число:\")) #функція input, яка позволяє вводити дані\n",
        "#не виловлюю помилку при введені символів\n",
        "\n",
        "while number != random_num:\n",
        "  if number > random_num:\n",
        "    andttempts=andttempts+1\n",
        "    number = int(input(f\"Число є менше за {number}. Введіть менше число: \")) #\n",
        "  else:\n",
        "    andttempts=andttempts+1\n",
        "    number = int(input(f\"Число є більшим за {number}. Введіть більше число \")) #\n",
        "\n",
        "\n",
        "print(f\"Вітаю ви вгадали!! Ви відгадали число після {andttempts} спроб\")\n"
      ],
      "metadata": {
        "id": "IK9nnxFK8Hkl",
        "colab": {
          "base_uri": "https://localhost:8080/"
        },
        "outputId": "f2e996b2-2687-42d9-afee-b4dc3fd3e638"
      },
      "execution_count": 66,
      "outputs": [
        {
          "output_type": "stream",
          "name": "stdout",
          "text": [
            "Я загадав чисало між 1 та 100. Вгадай його!\n",
            "Введіть число:50\n",
            "Число є менше за 50. Введіть менше число: 25\n",
            "Число є менше за 25. Введіть менше число: 13\n",
            "Число є менше за 13. Введіть менше число: 6\n",
            "Число є менше за 6. Введіть менше число: 3\n",
            "Вітаю ви вгадали!! Ви відгадали число після 4 спроб\n"
          ]
        }
      ]
    },
    {
      "cell_type": "markdown",
      "source": [
        "# Вітаю! Ви велика(ий) молодець, що впоралась(вся). Похваліть себе та побалуйте чимось приємним. Я Вами пишаюся."
      ],
      "metadata": {
        "id": "PXoXWb7Z8IGi"
      }
    }
  ]
}