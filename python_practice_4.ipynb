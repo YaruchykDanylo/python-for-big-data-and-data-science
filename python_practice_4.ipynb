{
  "nbformat": 4,
  "nbformat_minor": 0,
  "metadata": {
    "colab": {
      "provenance": []
    },
    "kernelspec": {
      "name": "python3",
      "display_name": "Python 3"
    },
    "language_info": {
      "name": "python"
    }
  },
  "cells": [
    {
      "cell_type": "markdown",
      "source": [
        "# I. Functions. Arguments."
      ],
      "metadata": {
        "id": "kXpppdVm6wFy"
      }
    },
    {
      "cell_type": "markdown",
      "source": [
        "1. (5б) Назвіть основні 4 смислові  частини, з яких складається функція.\n",
        "\n"
      ],
      "metadata": {
        "id": "u_krJdlbAkVz"
      }
    },
    {
      "cell_type": "markdown",
      "source": [
        "Дам відповідь у 2 форматах. У текстовому:\n",
        "Заголовок:\n",
        "\n",
        "**Містить ключове слово def.**\n",
        "1. Вказує ім'я функції.\n",
        "2. Визначає параметри (за потреби).\n",
        "3. Визначає тип даних, що повертається (за потреби).\n",
        "\n",
        "**Документація:**\n",
        "\n",
        "1. Необов'язкова частина.\n",
        "2. Містить опис функції, її параметрів та результату.\n",
        "3. Використовується для кращого розуміння коду\n",
        "\n",
        "**Тіло:**\n",
        "\n",
        "1. Містить код, який буде виконуватися при виклику функції.\n",
        "2. Складається з операторів, умовних переходів, циклів та інших інструментів Python\n",
        "\n",
        "**Повернення значення:**\n",
        "\n",
        "1. Необов'язкова частина (за замовчуванням повертає None)\n",
        "2. Використовується для передачі значення з функції в місце виклику.\n",
        "3. Використовується оператор return."
      ],
      "metadata": {
        "id": "KKTrTXmHAptb"
      }
    },
    {
      "cell_type": "code",
      "source": [
        "def add_numbers(a: int, b: int) -> int: # заголовок, що приймаємо, який тип видаємо\n",
        "  \"\"\"\n",
        "  Функція додає два числа.\n",
        "\n",
        "  Args:\n",
        "    a: Перше число.\n",
        "    b: Друге число.\n",
        "\n",
        "  Returns:\n",
        "    Суму a і b.\n",
        "  \"\"\" #документація\n",
        "\n",
        "  c=a+b #тіло функції\n",
        "  return c #повернення значення"
      ],
      "metadata": {
        "id": "fkjXLuGeHAa_"
      },
      "execution_count": null,
      "outputs": []
    },
    {
      "cell_type": "markdown",
      "source": [
        "2. (3б) Визначте функцію, що приймає 2 аргументи та повертає результат ділення 1го аргумента на інший."
      ],
      "metadata": {
        "id": "ORM4PqJQAtDM"
      }
    },
    {
      "cell_type": "code",
      "execution_count": null,
      "metadata": {
        "id": "EuDx-z8M6sLo",
        "colab": {
          "base_uri": "https://localhost:8080/"
        },
        "outputId": "334e80e8-1f5f-4175-bec8-7c3721031af5"
      },
      "outputs": [
        {
          "output_type": "execute_result",
          "data": {
            "text/plain": [
              "2.0"
            ]
          },
          "metadata": {},
          "execution_count": 9
        }
      ],
      "source": [
        "def divine(a,b):\n",
        "  return a/b\n",
        "divine(10,5)"
      ]
    },
    {
      "cell_type": "markdown",
      "source": [
        "3. (2б) Викличте вище визначену функцію, де другий аргумент дорівнює 0."
      ],
      "metadata": {
        "id": "5joQGQ-SAyMe"
      }
    },
    {
      "cell_type": "code",
      "source": [
        "divine(10,0)"
      ],
      "metadata": {
        "id": "V5cBV1LOA3d-",
        "colab": {
          "base_uri": "https://localhost:8080/",
          "height": 224
        },
        "outputId": "260de000-c3e0-4905-effc-5a644fcbad8e"
      },
      "execution_count": null,
      "outputs": [
        {
          "output_type": "error",
          "ename": "ZeroDivisionError",
          "evalue": "division by zero",
          "traceback": [
            "\u001b[0;31m---------------------------------------------------------------------------\u001b[0m",
            "\u001b[0;31mZeroDivisionError\u001b[0m                         Traceback (most recent call last)",
            "\u001b[0;32m<ipython-input-10-5358d6cc05c2>\u001b[0m in \u001b[0;36m<cell line: 1>\u001b[0;34m()\u001b[0m\n\u001b[0;32m----> 1\u001b[0;31m \u001b[0mdivine\u001b[0m\u001b[0;34m(\u001b[0m\u001b[0;36m10\u001b[0m\u001b[0;34m,\u001b[0m\u001b[0;36m0\u001b[0m\u001b[0;34m)\u001b[0m\u001b[0;34m\u001b[0m\u001b[0;34m\u001b[0m\u001b[0m\n\u001b[0m",
            "\u001b[0;32m<ipython-input-9-198ed420a7fa>\u001b[0m in \u001b[0;36mdivine\u001b[0;34m(a, b)\u001b[0m\n\u001b[1;32m      1\u001b[0m \u001b[0;32mdef\u001b[0m \u001b[0mdivine\u001b[0m\u001b[0;34m(\u001b[0m\u001b[0ma\u001b[0m\u001b[0;34m,\u001b[0m\u001b[0mb\u001b[0m\u001b[0;34m)\u001b[0m\u001b[0;34m:\u001b[0m\u001b[0;34m\u001b[0m\u001b[0;34m\u001b[0m\u001b[0m\n\u001b[0;32m----> 2\u001b[0;31m   \u001b[0;32mreturn\u001b[0m \u001b[0ma\u001b[0m\u001b[0;34m/\u001b[0m\u001b[0mb\u001b[0m\u001b[0;34m\u001b[0m\u001b[0;34m\u001b[0m\u001b[0m\n\u001b[0m\u001b[1;32m      3\u001b[0m \u001b[0mdivine\u001b[0m\u001b[0;34m(\u001b[0m\u001b[0;36m10\u001b[0m\u001b[0;34m,\u001b[0m\u001b[0;36m5\u001b[0m\u001b[0;34m)\u001b[0m\u001b[0;34m\u001b[0m\u001b[0;34m\u001b[0m\u001b[0m\n",
            "\u001b[0;31mZeroDivisionError\u001b[0m: division by zero"
          ]
        }
      ]
    },
    {
      "cell_type": "markdown",
      "source": [
        "4. (4б) Перевизначте функцію так, щоби у випадку ділення на 0 функція повертала None, а в решті випадків - результат розрахунків."
      ],
      "metadata": {
        "id": "QyimWgW8A43-"
      }
    },
    {
      "cell_type": "code",
      "source": [
        "def divine(a,b):\n",
        "  if b==0:\n",
        "    return None\n",
        "  else:\n",
        "    return a/b\n",
        "print(divine(10,0))\n",
        "print(divine(10,2))"
      ],
      "metadata": {
        "id": "7VIODtSjA8Ek",
        "colab": {
          "base_uri": "https://localhost:8080/"
        },
        "outputId": "472d9f4b-d129-49ee-945f-d13e7564a35c"
      },
      "execution_count": null,
      "outputs": [
        {
          "output_type": "stream",
          "name": "stdout",
          "text": [
            "None\n",
            "5.0\n"
          ]
        }
      ]
    },
    {
      "cell_type": "markdown",
      "source": [
        "5. (5б) Визначте функцію, що віднімає одне число від іншого (підказка: це буде 2 аргументи функції). При чому, якщо не визначити, скільки саме має бути віднято від числа, за замовчуванням має відніматися 1. Викличте функцію, передаючи тільки один аргумент."
      ],
      "metadata": {
        "id": "Y8mN0GfkA81l"
      }
    },
    {
      "cell_type": "code",
      "source": [
        "def minus(a,b=1):\n",
        "  return a-b\n",
        "\n",
        "minus(70)\n"
      ],
      "metadata": {
        "id": "vg1kxkdgBA50",
        "colab": {
          "base_uri": "https://localhost:8080/"
        },
        "outputId": "bf48edf0-8369-41bc-9c62-95a43ff07566"
      },
      "execution_count": null,
      "outputs": [
        {
          "output_type": "execute_result",
          "data": {
            "text/plain": [
              "69"
            ]
          },
          "metadata": {},
          "execution_count": 15
        }
      ]
    },
    {
      "cell_type": "markdown",
      "source": [
        "6. (7б) Визначте функцію, яка приймає iterable (ітерабельний обʼєкт, напр. список), що складається з 7ми рядкових значень - назв погодних умов (напр. \"sunny\") за кожен день у тижні. Повертає функція словник, де ключами є рядки з погодними умовами, а значеннями - кількість разів, скільки дана погода була протягом тижня (напр. {'sunny': 1, ...}). Викличте цю функцію та виведіть результат її роботи на екран."
      ],
      "metadata": {
        "id": "D3mwQGNOBBs4"
      }
    },
    {
      "cell_type": "code",
      "source": [
        "def count_weather(weather_conditions):\n",
        "  \"\"\"\n",
        "  Підраховує кількість разів, коли кожна погода зустрічається в списку.\n",
        "\n",
        "  Args:\n",
        "    weather_conditions: Iterable з 7 рядкових значень - назв погодних умов.\n",
        "\n",
        "  Returns:\n",
        "    Словник, де ключами є рядки з погодними умовами, а значеннями -\n",
        "    кількість разів, коли дана погода була протягом тижня.\n",
        "  \"\"\"\n",
        "\n",
        "  weather_counts = {} #порожній словник\n",
        "  for weather in weather_conditions: #цикл запускаємо по кожному елементу weather_data\n",
        "    weather_counts[weather] = weather_counts.get(weather,0)+1\n",
        "    #беремо словник, записуємо значення погоди і присвоюємо йому ключ за замовчуванням 0 і одразу додаємо 1-ку за кожне повторення\n",
        "  return weather_counts\n",
        "\n",
        "# Приклад використання\n",
        "weather_data = [\"sunny\", \"cloudy\", \"rainy\", \"sunny\", \"windy\", \"rainy\", \"sunny\"]\n",
        "weather_counts = count_weather(weather_data)\n",
        "print(weather_counts)\n"
      ],
      "metadata": {
        "id": "OsWm-hKcBFyn",
        "colab": {
          "base_uri": "https://localhost:8080/"
        },
        "outputId": "066e925c-3f73-4280-f1f4-4182bef589b8"
      },
      "execution_count": null,
      "outputs": [
        {
          "output_type": "stream",
          "name": "stdout",
          "text": [
            "{'sunny': 3, 'cloudy': 1, 'rainy': 2, 'windy': 1}\n"
          ]
        }
      ]
    },
    {
      "cell_type": "markdown",
      "source": [
        "7. (15б) Напишіть програму, яка б шукала необхідне число у впорядкованому списку цілочислених значень, де\n",
        "число має вводитись з консолі.\n",
        "власне алгоритм пошуку винесений в окрему функцію, яка повертає булеве значення (знайдено число - True, не знайдено - False).\n",
        "в залежності від результату функції, виведіть на екран повідомлення про успішний або ж неуспішний пошук.\n",
        "Зауваження: використовувати оператор in заборонено."
      ],
      "metadata": {
        "id": "RMiCcdOsBKQT"
      }
    },
    {
      "cell_type": "code",
      "source": [
        "def binary_search(list, item): #використаємо бінарний пошук\n",
        "\n",
        "  low = 0\n",
        "  high = len(list) - 1\n",
        "\n",
        "  while low <= high: #задаємо цикл\n",
        "    mid = (low + high) // 2 #отримуємо елемент по центру списку\n",
        "    if list[mid] == item: #перевіряємо, чи не лежить елемент по центру\n",
        "      return True\n",
        "    elif list[mid] < item: #якщо центральний елемент менший за введене нами число, то йдемо у по 1 у всі верхні\n",
        "     low = mid + 1\n",
        "    else:\n",
        "      high = mid - 1 #навпаки\n",
        "\n",
        "  return False #не знайшли - нічого не повертаємо\n",
        "\n",
        "\n",
        "\n",
        "list = [1, 3, 5, 7, 9, 11, 13, 15, 17, 19]\n",
        "\n",
        "item = int(input(\"Введіть число: \"))\n",
        "\n",
        "\n",
        "found = binary_search(list, item)\n",
        "\n",
        "\n",
        "if found:\n",
        "  print(f\"Число {item} знайдено\")\n",
        "else:\n",
        "  print(f\"Число {item} не знайдено\")\n"
      ],
      "metadata": {
        "id": "UNCZg65OBOy-",
        "colab": {
          "base_uri": "https://localhost:8080/"
        },
        "outputId": "e4d14cfe-132f-4c68-c40b-eafa39cc6667"
      },
      "execution_count": null,
      "outputs": [
        {
          "output_type": "stream",
          "name": "stdout",
          "text": [
            "Введіть число: 5\n",
            "Число 5 знайдено\n"
          ]
        }
      ]
    },
    {
      "cell_type": "markdown",
      "source": [
        "# II. Lambda functions."
      ],
      "metadata": {
        "id": "Ae1n_OvLBTsy"
      }
    },
    {
      "cell_type": "markdown",
      "source": [
        "8. (4б) В яких випадках варто використовувати лямбда-функції?"
      ],
      "metadata": {
        "id": "xaD_wSlaCWen"
      }
    },
    {
      "cell_type": "markdown",
      "source": [
        "Лямбда функції є дуже короткими та лаконічними, крім того вони є анонімними і можуть бути вкладеними, через це особливості їх варто використовувати:\n",
        "\n",
        "1. **Коли потрібна коротка, проста функція:**\n",
        "\n",
        "double = lambda x: x * 2\n",
        "\n",
        "2. **Як аргумент іншої функції:**\n",
        "\n",
        "sorted_list = sorted(list, key=lambda x: abs(x))\n",
        "\n",
        "print(sorted_list)\n",
        "\n",
        "3. **В об'єктах, що очікують функції як аргумент:**\n",
        "\n",
        "Знайшов у інетернеті приклад\n",
        "\n",
        "\n",
        "button = Button(text=\"Натисніть\", command=lambda: print(\"Натиснуто!\"))\n",
        "\n",
        "\n",
        "4. **Для створення динамічних функцій:**\n",
        "\n",
        "def create_multiplier(n):\n",
        "\n",
        "  return lambda x: x * n\n",
        "\n",
        "\n",
        "multiplier5 = create_multiplier(5)\n",
        "\n",
        "result = multiplier5(10)\n",
        "\n",
        "print(result)\n",
        "\n",
        "Але знову ж таки, викоритсовуючи правило з 2 лекцції, краще скористатись важчим варіантом і розписати функціонал більш читабильно, бо для продуктового коду читабильність - проіритет №1"
      ],
      "metadata": {
        "id": "42MB6OoLCakR"
      }
    },
    {
      "cell_type": "markdown",
      "source": [
        "9. (9б) Визначте список з рядками. Після цього визначте анонімну функцію для отримання першого символу у верхньому регістрі для кожного рядка списку.\n",
        "Підказка: використовуйте анонімну функцію в якості агрумента до вбудованої ф-ції, яка створена для застосування функцій над iterable обʼєктами. Результат виведіть на екран у вигляді кортежу."
      ],
      "metadata": {
        "id": "USrzrk7GCedk"
      }
    },
    {
      "cell_type": "code",
      "source": [
        "# Визначаємо список рядків\n",
        "list_of_strings = [\"доброго\", \"вечора\",\"ми\",\"з\", \"україна\"]\n",
        "\n",
        "# Визначаємо анонімну функцію для отримання першого символу у верхньому регістрі\n",
        "upper_first_char = lambda string: string[0].upper()\n",
        "\n",
        "# Застосовуємо анонімну функцію до кожного рядка списку\n",
        "# map - вбудована ф-ція, яка використовує анонімну функцію для обробки кожного елемента списку\n",
        "# map повертає iterable обʼєкт, тому використовується tuple для конвертації в кортеж\n",
        "result = tuple(map(upper_first_char, list_of_strings))\n",
        "\n",
        "print(result)\n"
      ],
      "metadata": {
        "id": "M8QWUsMlCjWH",
        "colab": {
          "base_uri": "https://localhost:8080/"
        },
        "outputId": "c74cb6c2-7d57-4cb4-98d9-d360a2569e67"
      },
      "execution_count": null,
      "outputs": [
        {
          "output_type": "stream",
          "name": "stdout",
          "text": [
            "('Д', 'В', 'М', 'З', 'У')\n"
          ]
        }
      ]
    },
    {
      "cell_type": "markdown",
      "source": [
        "10. (10б) Визначте список з числовими значеннями (і цілими, і з рухомою комою). а) Відфільтруйте всі числа, які діляться націло на 3 за допомогою вбудованої функції та анонімної функції в якості аргумента). Збережіть результат у змінній, не приводяти явно до будь-якого типу. б) Використовуючи результат на кроці 12.а у якості аргументу, та за допомогою лямбда-функції в якості іншого аргументу до вбудованої функції, додайте до кожного елементу число 1 та опісля зведіть у квадрат. Остаточний результат приведіть явно до списку та виведіть на екран."
      ],
      "metadata": {
        "id": "9fyUhXOoCtGp"
      }
    },
    {
      "cell_type": "code",
      "source": [
        "# Визначаємо список з числовими значеннями\n",
        "numbers = [1, 2.5, 3, 4.1, 5, 6.6, 7, 8.2, 9]\n",
        "\n",
        "# a) Фільтруємо числа, які діляться на 3\n",
        "divisible_by_3 = list(filter(lambda x: x % 3 == 0, numbers))\n",
        "print(divisible_by_3)\n",
        "\n",
        "# b) Додаємо 1 до кожного елементу та зводимо в квадрат\n",
        "squared_results = list(map(lambda x: (x + 1) ** 2, divisible_by_3))\n",
        "print(squared_results)\n"
      ],
      "metadata": {
        "id": "exEx2_okCsql",
        "colab": {
          "base_uri": "https://localhost:8080/"
        },
        "outputId": "2bb10edc-b7ba-4ee2-9b8a-800cbc3fe7b1"
      },
      "execution_count": null,
      "outputs": [
        {
          "output_type": "stream",
          "name": "stdout",
          "text": [
            "[3, 9]\n",
            "[16, 100]\n"
          ]
        }
      ]
    },
    {
      "cell_type": "markdown",
      "source": [
        "# III. Decorators."
      ],
      "metadata": {
        "id": "o_x8cG_WC7jp"
      }
    },
    {
      "cell_type": "markdown",
      "source": [
        "11. (11б) Визначте декоратор, який би виводив у консоль повідомлення про початок роботи і назву функції (напр. my_function._ _ name _ _), а після відпрацювання функції - повідомлення про закінчення роботи і назву функції, що задекорована."
      ],
      "metadata": {
        "id": "mhxS4-mfC8LQ"
      }
    },
    {
      "cell_type": "code",
      "source": [
        "def my_apofsd_decorator(func):\n",
        "    def wrapper(*args, **kwargs):\n",
        "        print(f\"Початок роботи {func.__name__}\")\n",
        "        print(func(*args, **kwargs))\n",
        "        print(f\"Закінчення роботи {func.__name__}\\n\")\n",
        "    return wrapper\n",
        "\n",
        "# Приклад використання декоратора\n",
        "@my_apofsd_decorator\n",
        "def example_function_1():\n",
        "    return None\n",
        "\n",
        "example_function_1()\n"
      ],
      "metadata": {
        "id": "srd1ygWjDGhO",
        "colab": {
          "base_uri": "https://localhost:8080/"
        },
        "outputId": "e07e0e44-dfca-4ea1-93d4-2bf55ce006e3"
      },
      "execution_count": 30,
      "outputs": [
        {
          "output_type": "stream",
          "name": "stdout",
          "text": [
            "Початок роботи example_function_1\n",
            "None\n",
            "Закінчення роботи example_function_1\n",
            "\n"
          ]
        }
      ]
    },
    {
      "cell_type": "markdown",
      "source": [
        "*12*. (4б) Задекоруйте двома різними способами функції з завдання 4 та 5 декоратором із завдання 11. (**УВАГА**: не декоруйте функції двічі!).\n",
        "\n",
        "(для зручності добавив рядок коду)"
      ],
      "metadata": {
        "id": "rxGZwVBiDph3"
      }
    },
    {
      "cell_type": "code",
      "source": [
        "@my_apofsd_decorator\n",
        "def divine(a, b):\n",
        "  if b == 0:\n",
        "    return None\n",
        "  else:\n",
        "    return a / b\n",
        "\n",
        "@my_apofsd_decorator\n",
        "def minus(a, b=1):\n",
        "  return a - b\n",
        "\n",
        "\n",
        "\n",
        "\n"
      ],
      "metadata": {
        "id": "06lj7eq_DwZe",
        "colab": {
          "base_uri": "https://localhost:8080/"
        },
        "outputId": "7e0db8aa-97ef-499e-9d33-e2ef8ece194b"
      },
      "execution_count": 31,
      "outputs": [
        {
          "output_type": "stream",
          "name": "stdout",
          "text": [
            "Початок роботи divine\n",
            "5.0\n",
            "Закінчення роботи divine\n",
            "\n",
            "Початок роботи minus\n",
            "9\n",
            "Закінчення роботи minus\n",
            "\n"
          ]
        }
      ]
    },
    {
      "cell_type": "code",
      "source": [
        "def divine(a, b):\n",
        "  if b == 0:\n",
        "    return None\n",
        "  else:\n",
        "    return a / b\n",
        "\n",
        "divine = my_apofsd_decorator(divine)\n",
        "\n",
        "\n",
        "def minus(a, b=1):\n",
        "  return a - b\n",
        "\n",
        "minus=my_apofsd_decorator(minus)\n"
      ],
      "metadata": {
        "id": "9uMsy7jVO2S3",
        "colab": {
          "base_uri": "https://localhost:8080/"
        },
        "outputId": "755313c1-ca65-422e-f2f1-6a09fa993769"
      },
      "execution_count": 40,
      "outputs": [
        {
          "output_type": "stream",
          "name": "stdout",
          "text": [
            "Початок роботи divine\n",
            "5.0\n",
            "Закінчення роботи divine\n",
            "\n",
            "Початок роботи minus\n",
            "9\n",
            "Закінчення роботи minus\n",
            "\n"
          ]
        }
      ]
    },
    {
      "cell_type": "markdown",
      "source": [
        "13. (2б) Викличте одну з задекорованих функцій і виведіть її результат на екран."
      ],
      "metadata": {
        "id": "P0ep1urBDzf-"
      }
    },
    {
      "cell_type": "code",
      "source": [
        "minus(10)"
      ],
      "metadata": {
        "id": "1QvTw0ctD0S3",
        "colab": {
          "base_uri": "https://localhost:8080/"
        },
        "outputId": "15c9567e-27ed-438f-94e4-c335977dad5f"
      },
      "execution_count": 41,
      "outputs": [
        {
          "output_type": "stream",
          "name": "stdout",
          "text": [
            "Початок роботи minus\n",
            "9\n",
            "Закінчення роботи minus\n",
            "\n"
          ]
        }
      ]
    },
    {
      "cell_type": "markdown",
      "source": [
        "# IV. Recursion."
      ],
      "metadata": {
        "id": "poECCpuoD2S9"
      }
    },
    {
      "cell_type": "markdown",
      "source": [
        "14. (4б) Назвіть дві частини функції, які є обовʼязковими для того, щоб називати її рекурсивною."
      ],
      "metadata": {
        "id": "DqkURfdsD7MY"
      }
    },
    {
      "cell_type": "markdown",
      "source": [
        "1. **Базовий випадок:** Це умова, при якій рекурсія закінчується. Зазвичай це простий випадок, який можна вирішити без рекурсії.\n",
        "\n",
        "2. **Рекурсивний крок:** Це частина функції, яка викликає себе з іншими аргументами. Цей крок повинен наближати нас до базового випадку."
      ],
      "metadata": {
        "id": "HYW6ttIeIQIU"
      }
    },
    {
      "cell_type": "markdown",
      "source": [
        "15. (15б) Визначте функцію, яка рекурсивно реалізовує пошук числа у послідовності Фібоначчі за її індексом (нумерація починається з нуля). Наприклад, потрібно знайти перше число у послідовності, тоді функція прийматиме 0 у якості аргумента і повертатиме 1, якщо ж знаходити третє число (індекс 2) послідовності, то функція повертатиме 2, якщо ж знаходити десяте число (індекс 9), то функція повертатиме 55."
      ],
      "metadata": {
        "id": "WYVt20UmEA35"
      }
    },
    {
      "cell_type": "code",
      "source": [
        "def fibonacci(n):\n",
        "  if n == 0:\n",
        "    return 1\n",
        "  elif n == 1:\n",
        "    return 1\n",
        "  else:\n",
        "    return fibonacci(n - 1) + fibonacci(n - 2) #тут використовуємо рекрусію\n",
        "\n",
        "#for i in range(10):\n",
        "#  print(f\"Число Фібоначчі з індексом {i} дорівнює {fibonacci(i)}\")\n",
        "fibonacci(9)\n"
      ],
      "metadata": {
        "id": "xIMhp05AIpV_",
        "colab": {
          "base_uri": "https://localhost:8080/"
        },
        "outputId": "87c0429b-8f92-47e6-b087-af8334c73ffc"
      },
      "execution_count": 54,
      "outputs": [
        {
          "output_type": "execute_result",
          "data": {
            "text/plain": [
              "55"
            ]
          },
          "metadata": {},
          "execution_count": 54
        }
      ]
    },
    {
      "cell_type": "markdown",
      "source": [
        "# Вітаю! Ви велика(ий) молодець, що впоралась(вся). Похваліть себе та побалуйте чимось приємним. Я Вами пишаюся."
      ],
      "metadata": {
        "id": "ytXC8n_4Ip0W"
      }
    }
  ]
}